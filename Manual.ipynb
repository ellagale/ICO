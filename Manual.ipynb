{
 "cells": [
  {
   "cell_type": "markdown",
   "metadata": {},
   "source": [
    "# ICO: Icospherical Chemical Objects"
   ]
  },
  {
   "cell_type": "markdown",
   "metadata": {},
   "source": [
    "Icospherical Chemical Objects (ICOs) that enable the encoding of 3-D data in a rotationally invariant way which works with spherical or icosahedral neural networks and allows for dataset augmentation."
   ]
  },
  {
   "cell_type": "markdown",
   "metadata": {},
   "source": [
    "### Code directory:\n",
    "\n",
    "`./Animation_and_images`: has code to make the images and animations used in the talks and papers. Start here if you want to make rgb coloured in icospherical nets for images.\n",
    "\n",
    "`./Animation_and_images/animate_nets_and_test_build_dataset`: Has code to produce nets and animations from SMILES strings and also to build a simple dataset with 1000 SMILES strings\n",
    "\n",
    "`./Animation_and_images/Molecular_Projections`: Has code to load rdkit and make projections\n",
    "\n",
    "\n",
    "`/dataset_creator/`: python scripts to make the datasets.\n"
   ]
  },
  {
   "cell_type": "markdown",
   "metadata": {},
   "source": [
    "## To build the datasets\n",
    "\n",
    "Start with the `Create_x_Dataset.ipynb` as examples. \n",
    "\n",
    "You need to write a `Create_Diff_Conformer_Dataset_From_X()` function where X is your dataset name. You will need to copy the ipynb file.\n",
    "\n",
    "You want to change the settings to load your dataset, then run \n",
    "\n",
    "`import helper_functions as h\n",
    "column_list = df.columns\n",
    "h.df_maker_2(df, verbose=True);`\n",
    "\n",
    "and \n",
    "\n",
    "`h.df_writer(column_list);`\n",
    "\n",
    "To generate the commands for you. The ones to set up the dataset look something like this: \n",
    "\n",
    "`cmpd_chemblid_ds = outfile.create_dataset('CMPD_CHEMBLID', (smile_count*NUM_MAPS_PER_MOLECULE,), dtype=string_type )\n",
    "exp_ds = outfile.create_dataset('exp', (smile_count*NUM_MAPS_PER_MOLECULE,))\n",
    "smiles_ds = outfile.create_dataset('smiles', (smile_count*NUM_MAPS_PER_MOLECULE,), dtype=string_type )`\n",
    "\n",
    "then in the loop there are two places where you need to replace the assignments with something like: \n",
    "\n",
    "`cmpd_chemblid = current_row.iloc[0]['CMPD_CHEMBLID']\n",
    "cmpd_chemblid_ds[point_ptr] = cmpd_chemblid\n",
    "exp = current_row.iloc[0]['exp']\n",
    "exp_ds[point_ptr] = exp\n",
    "smiles = current_row.iloc[0]['smiles']\n",
    "smiles_ds[point_ptr] = smiles`\n",
    "\n",
    "You cand write them yourself or use the functions above.\n",
    "\n",
    "Then, after testing this function, you can write hte `dataset_creator/X.py` to actually build the dataset (i.e. you change this file `Create_Diff_Conformer_Dataset_From_X()`)"
   ]
  },
  {
   "cell_type": "code",
   "execution_count": null,
   "metadata": {},
   "outputs": [],
   "source": []
  }
 ],
 "metadata": {
  "kernelspec": {
   "display_name": "Python 3",
   "language": "python",
   "name": "python3"
  },
  "language_info": {
   "codemirror_mode": {
    "name": "ipython",
    "version": 3
   },
   "file_extension": ".py",
   "mimetype": "text/x-python",
   "name": "python",
   "nbconvert_exporter": "python",
   "pygments_lexer": "ipython3",
   "version": "3.7.7"
  }
 },
 "nbformat": 4,
 "nbformat_minor": 4
}
